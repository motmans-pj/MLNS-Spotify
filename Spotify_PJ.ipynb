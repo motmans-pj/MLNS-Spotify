{
 "cells": [
  {
   "cell_type": "markdown",
   "id": "1f56a554",
   "metadata": {},
   "source": [
    "### We have different dataframes: \n",
    "\n",
    "1. **Spotify_600**: all tracks and features associated to tracks, from this dataframe we delete the non-music songs\n",
    "2. **artists_600**: all artists and a small number of features related to the artists\n",
    "3. **feat_track_600**: all songs with more than one artist, since 1999 (passed to create nodes_600)\n",
    "4. **nodes_600**: edge lists from source to target, including number of features and songs in which they collaborated\n",
    "5. **artists_600_features**: artist features, popularity and song features for all songs\n",
    "6. **genres**: all genres with the number of artists having that genre"
   ]
  },
  {
   "cell_type": "code",
   "execution_count": 1,
   "id": "364628dc",
   "metadata": {},
   "outputs": [],
   "source": [
    "import pandas as pd\n",
    "import os\n",
    "\n",
    "import numpy as np\n",
    "import pandas as pd\n",
    "import matplotlib.pyplot as plt\n",
    "import seaborn as sns\n",
    "import networkx as ntx\n",
    "import re\n",
    "import altair as alt\n",
    "\n",
    "# ref doc https://github.com/eliorc/node2ve and https://towardsdatascience.com/node2vec-embeddings-for-graph-data-32a866340fef\n",
    "from node2vec import Node2Vec \n",
    "from sklearn.model_selection import train_test_split\n",
    "from music_utils import *\n",
    "from tqdm.auto import tqdm  # import tqdm for progress bar\n",
    "tqdm.pandas()"
   ]
  },
  {
   "cell_type": "code",
   "execution_count": 2,
   "id": "282a9a7e",
   "metadata": {},
   "outputs": [],
   "source": [
    "local = True\n",
    "if local:\n",
    "    DATA_PATH = '../data/'\n",
    "else:\n",
    "    DATA_PATH = './data/'"
   ]
  },
  {
   "cell_type": "code",
   "execution_count": 3,
   "id": "3d322527",
   "metadata": {},
   "outputs": [],
   "source": [
    "def graph_largest_cc(nodes_df, plot_graph=False, write_graphml=None):   \n",
    "    edge_list = [tuple(l[:2]) for l in nodes_df.values.tolist()]\n",
    "    G = ntx.from_edgelist(edge_list)\n",
    "    largest_cc = G.subgraph(max(ntx.connected_components(G), key=len))\n",
    "    print(f'The largest connected component has {len(largest_cc.nodes)} nodes.')\n",
    "    print(f'The largest connected component has {len(largest_cc.edges)} edges.')\n",
    "\n",
    "    if plot_graph:\n",
    "        fig, ax = plt.subplots(figsize=(15, 15))\n",
    "        ntx.draw_networkx(largest_cc, with_labels=False, node_size = 20, ax = ax)\n",
    "        plt.show()\n",
    "    \n",
    "    if write_graphml != None:\n",
    "        ntx.write_graphml_lxml(G, write_graphml+'.graphml')\n",
    "    return G, largest_cc"
   ]
  },
  {
   "cell_type": "markdown",
   "id": "484043dd",
   "metadata": {},
   "source": [
    "Ran this once on the CSV's from the kaggle website, is now saved locally in pickle files"
   ]
  },
  {
   "cell_type": "code",
   "execution_count": 4,
   "id": "9a48d82a",
   "metadata": {},
   "outputs": [],
   "source": [
    "spotify_600, artists_600 = read_spotify_600(DATA_PATH=DATA_PATH, read=True)"
   ]
  },
  {
   "cell_type": "markdown",
   "id": "d97ec0a8",
   "metadata": {},
   "source": [
    "We filter out the non-music tracks, then we create the edge lists and the features for artists. "
   ]
  },
  {
   "cell_type": "code",
   "execution_count": 5,
   "id": "11e94fb7",
   "metadata": {},
   "outputs": [
    {
     "name": "stdout",
     "output_type": "stream",
     "text": [
      "We are deleting 22100 songs from the dataframe\n"
     ]
    }
   ],
   "source": [
    "# Filter out non-music\n",
    "n_non_music = sum(spotify_600[\"speechiness\"] > 0.7)\n",
    "print(f\"We are deleting {n_non_music} songs from the dataframe\")\n",
    "spotify_600 = spotify_600[spotify_600[\"speechiness\"] < 0.7]"
   ]
  },
  {
   "cell_type": "code",
   "execution_count": 6,
   "id": "aec63e2b",
   "metadata": {},
   "outputs": [],
   "source": [
    "#Nodes creation\n",
    "feat_track_600 = spotify_600[(spotify_600.num_artists > 1)&(spotify_600.release_date.dt.year > 1999)].copy()\n",
    "nodes_600 = nodes_featuring(feat_track_600, DATA_PATH=DATA_PATH, read=False, path='edge_list_600k_over1999.pkl')"
   ]
  },
  {
   "cell_type": "code",
   "execution_count": 16,
   "id": "20affe5c",
   "metadata": {},
   "outputs": [],
   "source": [
    "#artists feature creation\n",
    "artists_600_features = artists_features_creation(artists_600, spotify_600, DATA_PATH, read=False)"
   ]
  },
  {
   "cell_type": "code",
   "execution_count": 19,
   "id": "b95e1482",
   "metadata": {},
   "outputs": [],
   "source": [
    "#Genres\n",
    "genres = pd.DataFrame(artists_600_features.genres.explode().value_counts().reset_index()).dropna().rename(\n",
    "    columns={'index':'genre','genres':'number_of_artists'}\n",
    ")"
   ]
  },
  {
   "cell_type": "code",
   "execution_count": 9,
   "id": "e7aaf7d2",
   "metadata": {},
   "outputs": [
    {
     "name": "stdout",
     "output_type": "stream",
     "text": [
      "The largest connected component has 20500 nodes.\n",
      "The largest connected component has 62429 edges.\n"
     ]
    }
   ],
   "source": [
    "edge_list = [tuple(l[:2]) for l in nodes_600.values.tolist()]\n",
    "G = ntx.from_edgelist(edge_list)\n",
    "largest_cc = G.subgraph(max(ntx.connected_components(G), key=len))\n",
    "print(f'The largest connected component has {len(largest_cc.nodes)} nodes.')\n",
    "print(f'The largest connected component has {len(largest_cc.edges)} edges.')"
   ]
  }
 ],
 "metadata": {
  "kernelspec": {
   "display_name": "Python 3 (ipykernel)",
   "language": "python",
   "name": "python3"
  },
  "language_info": {
   "codemirror_mode": {
    "name": "ipython",
    "version": 3
   },
   "file_extension": ".py",
   "mimetype": "text/x-python",
   "name": "python",
   "nbconvert_exporter": "python",
   "pygments_lexer": "ipython3",
   "version": "3.9.16"
  }
 },
 "nbformat": 4,
 "nbformat_minor": 5
}
